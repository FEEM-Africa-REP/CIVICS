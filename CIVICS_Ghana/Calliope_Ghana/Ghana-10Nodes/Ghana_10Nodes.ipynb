{
 "cells": [
  {
   "cell_type": "code",
   "execution_count": null,
   "metadata": {},
   "outputs": [],
   "source": [
    "import calliope"
   ]
  },
  {
   "cell_type": "code",
   "execution_count": null,
   "metadata": {
    "scrolled": true
   },
   "outputs": [],
   "source": [
    "try:\n",
    "    calliope.set_log_level('INFO')\n",
    "except:\n",
    "    calliope.set_log_verbosity('INFO')\n",
    "model = calliope.Model('model.yaml')\n",
    "model.run()"
   ]
  },
  {
   "cell_type": "code",
   "execution_count": null,
   "metadata": {},
   "outputs": [],
   "source": [
    "import cal_graph as CG\n",
    "amin=CG.C_Graph(model=model,ex_path=r'Graph_inputs.xlsx',unit='kW')\n",
    "\n"
   ]
  },
  {
   "cell_type": "code",
   "execution_count": null,
   "metadata": {},
   "outputs": [],
   "source": [
    "amin.production.index"
   ]
  },
  {
   "cell_type": "code",
   "execution_count": null,
   "metadata": {},
   "outputs": [],
   "source": [
    "amin.node_dispatch(unit='GW',average='hourly',x_ticks='date',fig_format='svg')"
   ]
  },
  {
   "cell_type": "code",
   "execution_count": null,
   "metadata": {},
   "outputs": [],
   "source": [
    "#amin.cap_f_plot(v_round=3)\n",
    "amin.ins_cap_plot(kind='bar')\n"
   ]
  },
  {
   "cell_type": "code",
   "execution_count": null,
   "metadata": {},
   "outputs": [],
   "source": [
    "amin.node_pie(unit='GWh',v_round=3,rational='consumption',kind='absolute',style='ggplot',title_font=20)"
   ]
  },
  {
   "cell_type": "code",
   "execution_count": null,
   "metadata": {},
   "outputs": [],
   "source": [
    "amin.system_pie()"
   ]
  },
  {
   "cell_type": "code",
   "execution_count": null,
   "metadata": {},
   "outputs": [],
   "source": [
    "import pandas as pd"
   ]
  },
  {
   "cell_type": "code",
   "execution_count": null,
   "metadata": {},
   "outputs": [],
   "source": [
    "a= pd.read_excel(r'Time_series_data\\Book1.xlsx',header=[0],index_col=[0])"
   ]
  },
  {
   "cell_type": "code",
   "execution_count": null,
   "metadata": {},
   "outputs": [],
   "source": [
    "a.index"
   ]
  },
  {
   "cell_type": "code",
   "execution_count": null,
   "metadata": {},
   "outputs": [],
   "source": [
    "def date2name(date,name):\n",
    "    \n",
    "    l_date=[]\n",
    "    l_name=[]\n",
    "    l_date.append(date[0])\n",
    "    l_name.append(name[0])    \n",
    "    \n",
    "    for i in range(1,len(date)):\n",
    "        if name[i] != name[i-1]:\n",
    "\n",
    "            l_date.append(date[i])\n",
    "            l_name.append(name[i])\n",
    "    \n",
    "    return l_date,l_name"
   ]
  },
  {
   "cell_type": "code",
   "execution_count": null,
   "metadata": {},
   "outputs": [],
   "source": [
    "qq=date2name(amin.production.index,amin.production.index.month_name())"
   ]
  },
  {
   "cell_type": "code",
   "execution_count": null,
   "metadata": {},
   "outputs": [],
   "source": [
    "qq"
   ]
  },
  {
   "cell_type": "code",
   "execution_count": null,
   "metadata": {},
   "outputs": [],
   "source": [
    "amin.production"
   ]
  },
  {
   "cell_type": "code",
   "execution_count": null,
   "metadata": {},
   "outputs": [],
   "source": [
    "amin.production.plot(kind='area')"
   ]
  },
  {
   "cell_type": "code",
   "execution_count": null,
   "metadata": {},
   "outputs": [],
   "source": [
    "import matplotlib.pyplot as plt\n",
    "fig,(ax) = plt.subplots(1)\n",
    "ax.margins(x=0)\n",
    "ax.margins(y=0.1)\n",
    "            \n",
    "# Drawing demand line\n",
    "plt.plot(a.index,a.values,'#000000',alpha=0.5, linestyle = '-', label ='Demand',linewidth=0.5)\n",
    "            \n",
    "\n",
    "plt.legend(bbox_to_anchor=(1.05, 1), loc='upper left', borderaxespad=0.,frameon=True)\n",
    "            \n",
    "            \n",
    "# labels\n",
    "plt.xlabel('Date')\n",
    "\n",
    "            \n",
    "\n",
    "ticks = date2name(list(a.index),list(a.index.month_name()))\n",
    "plt.xticks(ticks =ticks[0] ,labels = ticks[1], rotation = 70)\n",
    "#ax.set_xticks(ax.get_xticks()[0:12])"
   ]
  },
  {
   "cell_type": "code",
   "execution_count": null,
   "metadata": {},
   "outputs": [],
   "source": []
  }
 ],
 "metadata": {
  "kernelspec": {
   "display_name": "Python 3",
   "language": "python",
   "name": "python3"
  },
  "language_info": {
   "codemirror_mode": {
    "name": "ipython",
    "version": 3
   },
   "file_extension": ".py",
   "mimetype": "text/x-python",
   "name": "python",
   "nbconvert_exporter": "python",
   "pygments_lexer": "ipython3",
   "version": "3.8.2"
  }
 },
 "nbformat": 4,
 "nbformat_minor": 2
}
