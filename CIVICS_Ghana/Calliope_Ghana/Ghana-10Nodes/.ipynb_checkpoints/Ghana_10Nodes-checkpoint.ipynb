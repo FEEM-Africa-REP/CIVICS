{
 "cells": [
  {
   "cell_type": "code",
   "execution_count": 1,
   "metadata": {},
   "outputs": [],
   "source": [
    "import calliope"
   ]
  },
  {
   "cell_type": "code",
   "execution_count": 2,
   "metadata": {
    "scrolled": true
   },
   "outputs": [
    {
     "name": "stdout",
     "output_type": "stream",
     "text": [
      "[2020-10-14 14:59:13] INFO     Model: initialising\n",
      "[2020-10-14 14:59:14] WARNING  C:\\Users\\stevo\\.conda\\envs\\calliope_65\\lib\\site-packages\\calliope\\core\\preprocess\\model_run.py:227: FutureWarning:\n",
      "\n",
      "There will be no default cost class for the objective function in v0.7.0 (currently \"monetary\" with a weight of 1). Explicitly specify the cost class(es) you would like to use under `run.objective_options.cost_class`. E.g. `{\"monetary\": 1}` to replicate the current default.\n",
      "\n",
      "\n"
     ]
    },
    {
     "ename": "ModelError",
     "evalue": "Errors during model processing:\n * Technology HV_161 defined twice on a link defined in both directions (e.g. `A,B` and `B,A`). A technology can only be defined on one link even if it allows unidirectional flow in each direction (i.e. `one_way: true`).",
     "output_type": "error",
     "traceback": [
      "\u001b[1;31m---------------------------------------------------------------------------\u001b[0m",
      "\u001b[1;31mModelError\u001b[0m                                Traceback (most recent call last)",
      "\u001b[1;32m<ipython-input-2-b9b16a947aad>\u001b[0m in \u001b[0;36m<module>\u001b[1;34m\u001b[0m\n\u001b[0;32m      3\u001b[0m \u001b[1;32mexcept\u001b[0m\u001b[1;33m:\u001b[0m\u001b[1;33m\u001b[0m\u001b[1;33m\u001b[0m\u001b[0m\n\u001b[0;32m      4\u001b[0m     \u001b[0mcalliope\u001b[0m\u001b[1;33m.\u001b[0m\u001b[0mset_log_verbosity\u001b[0m\u001b[1;33m(\u001b[0m\u001b[1;34m'INFO'\u001b[0m\u001b[1;33m)\u001b[0m\u001b[1;33m\u001b[0m\u001b[1;33m\u001b[0m\u001b[0m\n\u001b[1;32m----> 5\u001b[1;33m \u001b[0mmodel\u001b[0m \u001b[1;33m=\u001b[0m \u001b[0mcalliope\u001b[0m\u001b[1;33m.\u001b[0m\u001b[0mModel\u001b[0m\u001b[1;33m(\u001b[0m\u001b[1;34m'model.yaml'\u001b[0m\u001b[1;33m)\u001b[0m\u001b[1;33m\u001b[0m\u001b[1;33m\u001b[0m\u001b[0m\n\u001b[0m\u001b[0;32m      6\u001b[0m \u001b[0mmodel\u001b[0m\u001b[1;33m.\u001b[0m\u001b[0mrun\u001b[0m\u001b[1;33m(\u001b[0m\u001b[1;33m)\u001b[0m\u001b[1;33m\u001b[0m\u001b[1;33m\u001b[0m\u001b[0m\n",
      "\u001b[1;32m~\\.conda\\envs\\calliope_65\\lib\\site-packages\\calliope\\core\\model.py\u001b[0m in \u001b[0;36m__init__\u001b[1;34m(self, config, model_data, *args, **kwargs)\u001b[0m\n\u001b[0;32m     72\u001b[0m         \u001b[0mlog_time\u001b[0m\u001b[1;33m(\u001b[0m\u001b[0mlogger\u001b[0m\u001b[1;33m,\u001b[0m \u001b[0mself\u001b[0m\u001b[1;33m.\u001b[0m\u001b[0m_timings\u001b[0m\u001b[1;33m,\u001b[0m \u001b[1;34m'model_creation'\u001b[0m\u001b[1;33m,\u001b[0m \u001b[0mcomment\u001b[0m\u001b[1;33m=\u001b[0m\u001b[1;34m'Model: initialising'\u001b[0m\u001b[1;33m)\u001b[0m\u001b[1;33m\u001b[0m\u001b[1;33m\u001b[0m\u001b[0m\n\u001b[0;32m     73\u001b[0m         \u001b[1;32mif\u001b[0m \u001b[0misinstance\u001b[0m\u001b[1;33m(\u001b[0m\u001b[0mconfig\u001b[0m\u001b[1;33m,\u001b[0m \u001b[0mstr\u001b[0m\u001b[1;33m)\u001b[0m\u001b[1;33m:\u001b[0m\u001b[1;33m\u001b[0m\u001b[1;33m\u001b[0m\u001b[0m\n\u001b[1;32m---> 74\u001b[1;33m             \u001b[0mmodel_run\u001b[0m\u001b[1;33m,\u001b[0m \u001b[0mdebug_data\u001b[0m \u001b[1;33m=\u001b[0m \u001b[0mmodel_run_from_yaml\u001b[0m\u001b[1;33m(\u001b[0m\u001b[0mconfig\u001b[0m\u001b[1;33m,\u001b[0m \u001b[1;33m*\u001b[0m\u001b[0margs\u001b[0m\u001b[1;33m,\u001b[0m \u001b[1;33m**\u001b[0m\u001b[0mkwargs\u001b[0m\u001b[1;33m)\u001b[0m\u001b[1;33m\u001b[0m\u001b[1;33m\u001b[0m\u001b[0m\n\u001b[0m\u001b[0;32m     75\u001b[0m             \u001b[0mself\u001b[0m\u001b[1;33m.\u001b[0m\u001b[0m_init_from_model_run\u001b[0m\u001b[1;33m(\u001b[0m\u001b[0mmodel_run\u001b[0m\u001b[1;33m,\u001b[0m \u001b[0mdebug_data\u001b[0m\u001b[1;33m)\u001b[0m\u001b[1;33m\u001b[0m\u001b[1;33m\u001b[0m\u001b[0m\n\u001b[0;32m     76\u001b[0m         \u001b[1;32melif\u001b[0m \u001b[0misinstance\u001b[0m\u001b[1;33m(\u001b[0m\u001b[0mconfig\u001b[0m\u001b[1;33m,\u001b[0m \u001b[0mdict\u001b[0m\u001b[1;33m)\u001b[0m\u001b[1;33m:\u001b[0m\u001b[1;33m\u001b[0m\u001b[1;33m\u001b[0m\u001b[0m\n",
      "\u001b[1;32m~\\.conda\\envs\\calliope_65\\lib\\site-packages\\calliope\\core\\preprocess\\model_run.py\u001b[0m in \u001b[0;36mmodel_run_from_yaml\u001b[1;34m(model_file, scenario, override_dict)\u001b[0m\n\u001b[0;32m     57\u001b[0m     )\n\u001b[0;32m     58\u001b[0m \u001b[1;33m\u001b[0m\u001b[0m\n\u001b[1;32m---> 59\u001b[1;33m     return generate_model_run(\n\u001b[0m\u001b[0;32m     60\u001b[0m         \u001b[0mconfig_with_overrides\u001b[0m\u001b[1;33m,\u001b[0m \u001b[0mdebug_comments\u001b[0m\u001b[1;33m,\u001b[0m \u001b[0moverrides\u001b[0m\u001b[1;33m,\u001b[0m \u001b[0mscenario\u001b[0m\u001b[1;33m\u001b[0m\u001b[1;33m\u001b[0m\u001b[0m\n\u001b[0;32m     61\u001b[0m     )\n",
      "\u001b[1;32m~\\.conda\\envs\\calliope_65\\lib\\site-packages\\calliope\\core\\preprocess\\model_run.py\u001b[0m in \u001b[0;36mgenerate_model_run\u001b[1;34m(config, debug_comments, applied_overrides, scenario)\u001b[0m\n\u001b[0;32m    546\u001b[0m     \u001b[1;31m# 1) Initial checks on model configuration\u001b[0m\u001b[1;33m\u001b[0m\u001b[1;33m\u001b[0m\u001b[1;33m\u001b[0m\u001b[0m\n\u001b[0;32m    547\u001b[0m     \u001b[0mwarning_messages\u001b[0m\u001b[1;33m,\u001b[0m \u001b[0merrors\u001b[0m \u001b[1;33m=\u001b[0m \u001b[0mchecks\u001b[0m\u001b[1;33m.\u001b[0m\u001b[0mcheck_initial\u001b[0m\u001b[1;33m(\u001b[0m\u001b[0mconfig\u001b[0m\u001b[1;33m)\u001b[0m\u001b[1;33m\u001b[0m\u001b[1;33m\u001b[0m\u001b[0m\n\u001b[1;32m--> 548\u001b[1;33m     \u001b[0mexceptions\u001b[0m\u001b[1;33m.\u001b[0m\u001b[0mprint_warnings_and_raise_errors\u001b[0m\u001b[1;33m(\u001b[0m\u001b[0mwarnings\u001b[0m\u001b[1;33m=\u001b[0m\u001b[0mwarning_messages\u001b[0m\u001b[1;33m,\u001b[0m \u001b[0merrors\u001b[0m\u001b[1;33m=\u001b[0m\u001b[0merrors\u001b[0m\u001b[1;33m)\u001b[0m\u001b[1;33m\u001b[0m\u001b[1;33m\u001b[0m\u001b[0m\n\u001b[0m\u001b[0;32m    549\u001b[0m \u001b[1;33m\u001b[0m\u001b[0m\n\u001b[0;32m    550\u001b[0m     \u001b[1;31m# 2) Fully populate techs\u001b[0m\u001b[1;33m\u001b[0m\u001b[1;33m\u001b[0m\u001b[1;33m\u001b[0m\u001b[0m\n",
      "\u001b[1;32m~\\.conda\\envs\\calliope_65\\lib\\site-packages\\calliope\\exceptions.py\u001b[0m in \u001b[0;36mprint_warnings_and_raise_errors\u001b[1;34m(warnings, errors)\u001b[0m\n\u001b[0;32m     76\u001b[0m \u001b[1;33m\u001b[0m\u001b[0m\n\u001b[0;32m     77\u001b[0m     \u001b[1;32mif\u001b[0m \u001b[0merrors\u001b[0m\u001b[1;33m:\u001b[0m\u001b[1;33m\u001b[0m\u001b[1;33m\u001b[0m\u001b[0m\n\u001b[1;32m---> 78\u001b[1;33m         raise ModelError(\n\u001b[0m\u001b[0;32m     79\u001b[0m             \u001b[1;34m'Errors during model processing:\\n'\u001b[0m \u001b[1;33m+\u001b[0m\u001b[1;33m\u001b[0m\u001b[1;33m\u001b[0m\u001b[0m\n\u001b[0;32m     80\u001b[0m             \u001b[0mtextwrap\u001b[0m\u001b[1;33m.\u001b[0m\u001b[0mindent\u001b[0m\u001b[1;33m(\u001b[0m\u001b[1;34m'\\n'\u001b[0m\u001b[1;33m.\u001b[0m\u001b[0mjoin\u001b[0m\u001b[1;33m(\u001b[0m\u001b[0msorted\u001b[0m\u001b[1;33m(\u001b[0m\u001b[0mlist\u001b[0m\u001b[1;33m(\u001b[0m\u001b[0mset\u001b[0m\u001b[1;33m(\u001b[0m\u001b[0merrors\u001b[0m\u001b[1;33m)\u001b[0m\u001b[1;33m)\u001b[0m\u001b[1;33m)\u001b[0m\u001b[1;33m)\u001b[0m\u001b[1;33m,\u001b[0m \u001b[1;34m' * '\u001b[0m\u001b[1;33m)\u001b[0m\u001b[1;33m\u001b[0m\u001b[1;33m\u001b[0m\u001b[0m\n",
      "\u001b[1;31mModelError\u001b[0m: Errors during model processing:\n * Technology HV_161 defined twice on a link defined in both directions (e.g. `A,B` and `B,A`). A technology can only be defined on one link even if it allows unidirectional flow in each direction (i.e. `one_way: true`)."
     ]
    }
   ],
   "source": [
    "try:\n",
    "    calliope.set_log_level('INFO')\n",
    "except:\n",
    "    calliope.set_log_verbosity('INFO')\n",
    "model = calliope.Model('model.yaml')\n",
    "model.run()"
   ]
  },
  {
   "cell_type": "code",
   "execution_count": null,
   "metadata": {},
   "outputs": [],
   "source": [
    "import cal_graph as CG\n",
    "amin=CG.C_Graph(model=model,ex_path=r'Graph_inputs.xlsx',unit='kW')\n",
    "\n"
   ]
  },
  {
   "cell_type": "code",
   "execution_count": null,
   "metadata": {},
   "outputs": [],
   "source": [
    "amin.production.index"
   ]
  },
  {
   "cell_type": "code",
   "execution_count": null,
   "metadata": {},
   "outputs": [],
   "source": [
    "amin.node_dispatch(unit='GW',average='hourly',x_ticks='date',fig_format='svg')"
   ]
  },
  {
   "cell_type": "code",
   "execution_count": null,
   "metadata": {},
   "outputs": [],
   "source": [
    "#amin.cap_f_plot(v_round=3)\n",
    "amin.ins_cap_plot(kind='bar')\n"
   ]
  },
  {
   "cell_type": "code",
   "execution_count": null,
   "metadata": {},
   "outputs": [],
   "source": [
    "amin.node_pie(unit='GWh',v_round=3,rational='consumption',kind='absolute',style='ggplot',title_font=20)"
   ]
  },
  {
   "cell_type": "code",
   "execution_count": null,
   "metadata": {},
   "outputs": [],
   "source": [
    "amin.system_pie()"
   ]
  },
  {
   "cell_type": "code",
   "execution_count": null,
   "metadata": {},
   "outputs": [],
   "source": [
    "import pandas as pd"
   ]
  },
  {
   "cell_type": "code",
   "execution_count": null,
   "metadata": {},
   "outputs": [],
   "source": [
    "a= pd.read_excel(r'Time_series_data\\Book1.xlsx',header=[0],index_col=[0])"
   ]
  },
  {
   "cell_type": "code",
   "execution_count": null,
   "metadata": {},
   "outputs": [],
   "source": [
    "a.index"
   ]
  },
  {
   "cell_type": "code",
   "execution_count": null,
   "metadata": {},
   "outputs": [],
   "source": [
    "def date2name(date,name):\n",
    "    \n",
    "    l_date=[]\n",
    "    l_name=[]\n",
    "    l_date.append(date[0])\n",
    "    l_name.append(name[0])    \n",
    "    \n",
    "    for i in range(1,len(date)):\n",
    "        if name[i] != name[i-1]:\n",
    "\n",
    "            l_date.append(date[i])\n",
    "            l_name.append(name[i])\n",
    "    \n",
    "    return l_date,l_name"
   ]
  },
  {
   "cell_type": "code",
   "execution_count": null,
   "metadata": {},
   "outputs": [],
   "source": [
    "qq=date2name(amin.production.index,amin.production.index.month_name())"
   ]
  },
  {
   "cell_type": "code",
   "execution_count": null,
   "metadata": {},
   "outputs": [],
   "source": [
    "qq"
   ]
  },
  {
   "cell_type": "code",
   "execution_count": null,
   "metadata": {},
   "outputs": [],
   "source": [
    "amin.production"
   ]
  },
  {
   "cell_type": "code",
   "execution_count": null,
   "metadata": {},
   "outputs": [],
   "source": [
    "amin.production.plot(kind='area')"
   ]
  },
  {
   "cell_type": "code",
   "execution_count": null,
   "metadata": {},
   "outputs": [],
   "source": [
    "import matplotlib.pyplot as plt\n",
    "fig,(ax) = plt.subplots(1)\n",
    "ax.margins(x=0)\n",
    "ax.margins(y=0.1)\n",
    "            \n",
    "# Drawing demand line\n",
    "plt.plot(a.index,a.values,'#000000',alpha=0.5, linestyle = '-', label ='Demand',linewidth=0.5)\n",
    "            \n",
    "\n",
    "plt.legend(bbox_to_anchor=(1.05, 1), loc='upper left', borderaxespad=0.,frameon=True)\n",
    "            \n",
    "            \n",
    "# labels\n",
    "plt.xlabel('Date')\n",
    "\n",
    "            \n",
    "\n",
    "ticks = date2name(list(a.index),list(a.index.month_name()))\n",
    "plt.xticks(ticks =ticks[0] ,labels = ticks[1], rotation = 70)\n",
    "#ax.set_xticks(ax.get_xticks()[0:12])"
   ]
  },
  {
   "cell_type": "code",
   "execution_count": null,
   "metadata": {},
   "outputs": [],
   "source": []
  }
 ],
 "metadata": {
  "kernelspec": {
   "display_name": "Python 3",
   "language": "python",
   "name": "python3"
  },
  "language_info": {
   "codemirror_mode": {
    "name": "ipython",
    "version": 3
   },
   "file_extension": ".py",
   "mimetype": "text/x-python",
   "name": "python",
   "nbconvert_exporter": "python",
   "pygments_lexer": "ipython3",
   "version": "3.8.2"
  }
 },
 "nbformat": 4,
 "nbformat_minor": 2
}
