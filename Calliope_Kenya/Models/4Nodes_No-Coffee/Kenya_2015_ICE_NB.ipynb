{
 "cells": [
  {
   "cell_type": "code",
   "execution_count": null,
   "metadata": {},
   "outputs": [],
   "source": [
    "import calliope"
   ]
  },
  {
   "cell_type": "code",
   "execution_count": null,
   "metadata": {
    "scrolled": true
   },
   "outputs": [],
   "source": [
    "try:\n",
    "    calliope.set_log_level('INFO')\n",
    "except:\n",
    "    calliope.set_log_verbosity('INFO')\n",
    "model = calliope.Model('model.yaml')\n",
    "model.run()"
   ]
  },
  {
   "cell_type": "code",
   "execution_count": null,
   "metadata": {},
   "outputs": [],
   "source": [
    "import cal_graph as CG\n",
    "amin=CG.C_Graph(model=model,ex_path=r'C:\\Users\\Amin\\Documents\\GitHub\\My Kenya\\Calliope_Kenya\\Models\\4Nodes_No-Coffee\\Graph_inputs.xlsx',unit='kWh')\n",
    "amin.node_dispatch(unit='TWh',title_font=15,average='hourly',sp_techs=['bio_pp','geo_pp'],sp_nodes=['WSTR'])\n"
   ]
  },
  {
   "cell_type": "code",
   "execution_count": null,
   "metadata": {},
   "outputs": [],
   "source": [
    "amin.a.plot(kind='area')"
   ]
  },
  {
   "cell_type": "code",
   "execution_count": null,
   "metadata": {},
   "outputs": [],
   "source": [
    "import pandas as pd"
   ]
  },
  {
   "cell_type": "code",
   "execution_count": null,
   "metadata": {},
   "outputs": [],
   "source": [
    "Dem_Tech = pd.read_excel('Graph_inputs.xlsx',sheet_name = 'Consumption Techs',index_col=[0],header=[0])\n",
    "Nodes    = pd.read_excel('Graph_inputs.xlsx',sheet_name = 'Nodes',index_col=[0],header=[0])\n",
    "Pr_Techs = pd.read_excel('Graph_inputs.xlsx',sheet_name = 'Production Techs',index_col = [0],header=[0])\n",
    "colname  = pd.read_excel('Graph_inputs.xlsx',sheet_name = 'Col_Name',index_col = [0],header =[0])\n",
    "imp_exp  = pd.read_excel('Graph_inputs.xlsx',sheet_name = 'imp-exp',index_col = [0],header =[0])\n",
    "Trans    = pd.read_excel('Graph_inputs.xlsx',sheet_name = 'Transmission',index_col = [0],header =[0])\n",
    "date     = pd.read_excel('Graph_inputs.xlsx',sheet_name = 'Date',index_col = [0],header =[0])"
   ]
  },
  {
   "cell_type": "code",
   "execution_count": null,
   "metadata": {},
   "outputs": [],
   "source": [
    "co_techs = Dem_Tech['Tech'].to_list()\n",
    "carr     = Dem_Tech['Carrier'].to_list()\n",
    "nodes    = Nodes['Location'].to_list()\n",
    "pr_techs = Pr_Techs['Tech'].to_list()\n",
    "colors   = colname['Color']\n",
    "names    = colname['Name']\n",
    "imps     = imp_exp['Imports'].to_list()\n",
    "exps     = imp_exp['Exports'].to_list()\n",
    "tr_tech  = Trans['Tech'].to_list()\n",
    "start    = date['Value'][0]\n",
    "end      = date['Value'][1]"
   ]
  },
  {
   "cell_type": "code",
   "execution_count": null,
   "metadata": {},
   "outputs": [],
   "source": [
    "carr"
   ]
  },
  {
   "cell_type": "code",
   "execution_count": null,
   "metadata": {},
   "outputs": [],
   "source": [
    "# How to build the transmissions"
   ]
  },
  {
   "cell_type": "code",
   "execution_count": null,
   "metadata": {},
   "outputs": [],
   "source": [
    "RES_ind = []\n",
    "for i in range(len(pr_techs)):\n",
    "    if Pr_Techs['RES'][i] == 1:\n",
    "        RES_ind.append('Renewable')\n",
    "    else:\n",
    "        RES_ind.append('Conventional')"
   ]
  },
  {
   "cell_type": "code",
   "execution_count": null,
   "metadata": {},
   "outputs": [],
   "source": [
    "RES_ind = RES_ind * len(nodes)"
   ]
  },
  {
   "cell_type": "code",
   "execution_count": null,
   "metadata": {},
   "outputs": [],
   "source": [
    "model.get_formatted_array('carrier_prod').loc[{'techs':pr_techs,'carriers':'power','locs':nodes}].to_pandas().T"
   ]
  },
  {
   "cell_type": "code",
   "execution_count": null,
   "metadata": {},
   "outputs": [],
   "source": [
    "pr = model.get_formatted_array('carrier_prod').loc[{'techs':pr_techs,'carriers':'power','locs':[nodes[0]]}].sum('locs').to_pandas().T\n",
    "pr = pd.concat([pr],keys=[nodes[0]],axis=1)\n",
    "for i in  range (1,len(nodes)):\n",
    "    pr0 = model.get_formatted_array('carrier_prod').loc[{'techs':pr_techs,'carriers':'power','locs':[nodes[i]]}].sum('locs').to_pandas().T\n",
    "    pr0 = pd.concat([pr0],keys=[nodes[i]],axis=1)\n",
    "    pr = pd.concat([pr,pr0],axis=1)\n",
    "    \n",
    "    \n",
    "    "
   ]
  },
  {
   "cell_type": "code",
   "execution_count": null,
   "metadata": {},
   "outputs": [],
   "source": []
  },
  {
   "cell_type": "code",
   "execution_count": null,
   "metadata": {},
   "outputs": [],
   "source": [
    "node = nodes[0]\n",
    "\n",
    "r_nodes = nodes.copy()\n",
    "r_nodes.remove(node)\n",
    "\n",
    "exp = r_nodes.copy()\n",
    "imp = r_nodes.copy()\n",
    "    \n",
    "node_index = []\n",
    "    \n",
    "for j in range(len(r_nodes)):\n",
    "        \n",
    "    node_index.append(nodes[0]) \n",
    "    node_index.append(nodes[0]) \n",
    "        \n",
    "    exp[j] = exp[j] + '_exp'\n",
    "    imp[j] = imp[j] + '_imp'\n",
    "\n",
    "exports = pd.DataFrame(index=pr.index,columns=exp)\n",
    "imports = pd.DataFrame(index=pr.index,columns=imp)\n",
    "\n",
    "\n",
    "tran_get = []\n",
    "\n",
    "for i in r_nodes:\n",
    "    tr = []\n",
    "    for j in tr_tech:\n",
    "        tr.append(j + ':' + i)\n",
    "    tran_get.append(tr)\n",
    "\n",
    "for i in range(len(exp)):\n",
    "    exports[exp[i]] = model.get_formatted_array('carrier_con').loc[{'techs':tran_get[i],'carriers':carr,'locs':[node]}].sum('locs').sum('techs').to_pandas().T\n",
    "    imports[imp[i]] = model.get_formatted_array('carrier_prod').loc[{'techs':tran_get[i],'carriers':carr,'locs':[node]}].sum('locs').sum('techs').to_pandas().T\n",
    "\n",
    "imports = pd.concat([imports],keys=[node],axis=1)\n",
    "exports = pd.concat([exports],keys=[node],axis=1)\n",
    "    \n",
    "for i in range(1,len(nodes)):\n",
    "    node = nodes[i]\n",
    "    r_nodes = nodes.copy()\n",
    "    r_nodes.remove(node)\n",
    "    \n",
    "    \n",
    "    exp = r_nodes.copy()\n",
    "    imp = r_nodes.copy()\n",
    "    \n",
    "    node_index = []\n",
    "    \n",
    "    for j in range(len(r_nodes)):\n",
    "        \n",
    "        node_index.append(nodes[i]) \n",
    "        node_index.append(nodes[i]) \n",
    "        \n",
    "        exp[j] = exp[j] + '_exp'\n",
    "        imp[j] = imp[j] + '_imp'   \n",
    "        \n",
    "    exports0 = pd.DataFrame(0,index=pr.index,columns=exp)\n",
    "    imports0 = pd.DataFrame(0,index=pr.index,columns=imp)\n",
    "    \n",
    "\n",
    "    tran_get = []\n",
    "\n",
    "    for h in r_nodes:\n",
    "        tr = []\n",
    "        for p in tr_tech:\n",
    "            tr.append(p + ':' + h)\n",
    "        tran_get.append(tr)\n",
    "\n",
    "    for n in range(len(exp)):\n",
    "        exports0[exp[n]] = model.get_formatted_array('carrier_con').loc[{'techs':tran_get[n],'carriers':carr,'locs':[node]}].sum('locs').sum('techs').to_pandas().T\n",
    "        imports0[imp[n]] = model.get_formatted_array('carrier_prod').loc[{'techs':tran_get[n],'carriers':carr,'locs':[node]}].sum('locs').sum('techs').to_pandas().T\n",
    "\n",
    "    imports0 = pd.concat([imports0],keys=[node],axis=1)\n",
    "    exports0 = pd.concat([exports0],keys=[node],axis=1)\n",
    "    \n",
    "    imports = pd.concat([imports,imports0],axis=1)\n",
    "    exports = pd.concat([exports,exports0],axis=1)"
   ]
  },
  {
   "cell_type": "code",
   "execution_count": null,
   "metadata": {},
   "outputs": [],
   "source": [
    "demand = -model.get_formatted_array('carrier_con').loc[{'techs':co_techs,'carriers':carr,'locs':nodes}].sum('techs').sum('carriers').to_pandas().T"
   ]
  },
  {
   "cell_type": "code",
   "execution_count": null,
   "metadata": {
    "scrolled": true
   },
   "outputs": [],
   "source": [
    "import matplotlib.pyplot as plt\n",
    "import matplotlib.dates as mdates\n",
    "from matplotlib import gridspec\n",
    "plt.style.use('seaborn-colorblind')\n",
    "\n",
    "col_list_pr = []\n",
    "name_list_pr = []\n",
    "\n",
    "prod = pd.concat([pr['WSTR'],imports['WSTR']],axis=1)\n",
    "\n",
    "\n",
    "fig, (ax1) = plt.subplots(1, figsize=(8,6))\n",
    "ax1.margins(x=0)\n",
    "ax1.margins(y=0.1)\n",
    "\n",
    "plt.plot(demand['WSTR'].index,demand['WSTR'].values,'black', alpha=0.5, linestyle = '--', label ='Demand',linewidth=3)\n",
    "\n",
    "plt.stackplot(pr['WSTR'].index,pr['WSTR'].values.T,colors=colors[prod.columns],labels=names[prod.columns])\n",
    "\n",
    "plt.stackplot(pr['WSTR'].index,exports['WSTR'].values.T,colors=colors[exports['WSTR'].columns],labels=names[exports['WSTR'].columns])\n",
    "\n",
    "plt.legend(bbox_to_anchor=(1.05, 1), loc='upper left', borderaxespad=0.,frameon=True)\n",
    "plt.title(\"Electricity Production\",fontsize=15)\n",
    "\n",
    "#plt.yticks(fontweight='bold')\n",
    "\n",
    "xfmt = mdates.DateFormatter('%d/%m/%y , %H:%M')\n",
    "ax1.xaxis.set_major_formatter(xfmt)\n",
    "\n",
    "plt.xlabel('Date')\n",
    "plt.xticks(rotation=70)\n",
    "plt.savefig('Graphs\\Pie_System_Result.{}'.format('png'), dpi=fig.dpi,bbox_inches='tight')"
   ]
  },
  {
   "cell_type": "code",
   "execution_count": null,
   "metadata": {},
   "outputs": [],
   "source": [
    "converter = {'Wh':1,'kWh':10**3,'MWh':10**6,'GWh':10**9,'TWh':10**12}"
   ]
  },
  {
   "cell_type": "code",
   "execution_count": null,
   "metadata": {},
   "outputs": [],
   "source": [
    "unit1,unit2= 'Wh','kWh'\n"
   ]
  },
  {
   "cell_type": "code",
   "execution_count": null,
   "metadata": {},
   "outputs": [],
   "source": [
    "converter[unit2]/converter[unit1]"
   ]
  },
  {
   "cell_type": "code",
   "execution_count": null,
   "metadata": {},
   "outputs": [],
   "source": [
    "units = ['Wh','kWh','MWh','GWh','TWh']\n",
    "a='ah'\n",
    "\n",
    "print('{} hi'.format(units))\n"
   ]
  },
  {
   "cell_type": "code",
   "execution_count": null,
   "metadata": {},
   "outputs": [],
   "source": [
    "sp_tech=['bio_pp']\n",
    "fig, (axs) = plt.subplots(2, figsize=(8,10),sharex=True)\n",
    "gs = gridspec.GridSpec(2, 1,height_ratios=[3,1]) \n",
    "axs[1] = plt.subplot(gs[1])\n",
    "axs[0] = plt.subplot(gs[0],sharex=axs[1])\n",
    "plt.setp(axs[0].get_xticklabels(), visible=False)\n",
    "col_list_pr = []\n",
    "name_list_pr = []\n",
    "prod = pd.concat([pr['WSTR'],imports['WSTR']],axis=1)\n",
    "\n",
    "\n",
    "\n",
    "axs[0].margins(x=0)\n",
    "axs[0].margins(y=0.1)\n",
    "\n",
    "axs[0].plot(demand['WSTR'][start:end].index,demand['WSTR'][start:end].values,'black', alpha=0.5, linestyle = '--', label ='Demand',linewidth=3)\n",
    "\n",
    "axs[0].stackplot(pr['WSTR'].index,pr['WSTR'].values.T,colors=colors[prod.columns],labels=names[prod.columns])\n",
    "\n",
    "axs[0].stackplot(pr['WSTR'].index,exports['WSTR'].values.T,colors=colors[exports['WSTR'].columns],labels=names[exports['WSTR'].columns])\n",
    "\n",
    "axs[0].legend(bbox_to_anchor=(1.05, 1), loc='upper left', borderaxespad=0.,frameon=True)\n",
    "plt.title(\"Electricity Production\",fontsize=15)\n",
    "\n",
    "axs[1].stackplot(pr['WSTR'].index,pr['WSTR'][sp_tech].values.T,colors=colors[sp_tech])\n",
    "\n",
    "plt.yticks(fontweight='bold')\n",
    "\n",
    "xfmt = mdates.DateFormatter('%d/%m/%y , %H:%M')\n",
    "axs[1].xaxis.set_major_formatter(xfmt)\n",
    "\n",
    "\n",
    "axs[1].tick_params(axis='x', rotation=70)\n",
    "\n",
    "#axs.xticks(rotation=70)"
   ]
  },
  {
   "cell_type": "code",
   "execution_count": null,
   "metadata": {},
   "outputs": [],
   "source": [
    "plt.figure(figsize=(8,8))\n",
    "\n",
    "plt.pie(pr['WSTR'].sum(),shadow=False,colors=colors[pr_techs])\n",
    "\n",
    "table = plt.table(cellText=pie.values,\n",
    "                              rowColours=colors[pr_techs],\n",
    "                              rowLabels= names[pr_techs],\n",
    "                              colLabels = ['GWh'],\n",
    "                              loc='right',\n",
    "                              rowLoc ='center',\n",
    "                              colLoc='center',\n",
    "                              cellLoc='center',bbox=(1.25,0.2,0.1,0.5)) \n",
    "the_table.auto_set_font_size(False)\n",
    "the_table.set_fontsize(15)\n",
    "\n",
    "\n"
   ]
  },
  {
   "cell_type": "code",
   "execution_count": null,
   "metadata": {},
   "outputs": [],
   "source": [
    "from fpdf import FPDF"
   ]
  },
  {
   "cell_type": "code",
   "execution_count": null,
   "metadata": {},
   "outputs": [],
   "source": [
    "class PDF(FPDF):\n",
    "    pass"
   ]
  },
  {
   "cell_type": "code",
   "execution_count": null,
   "metadata": {
    "scrolled": true
   },
   "outputs": [],
   "source": [
    "pdf =PDF()"
   ]
  },
  {
   "cell_type": "code",
   "execution_count": null,
   "metadata": {},
   "outputs": [],
   "source": [
    "pdf=PDF(orientation='L')\n",
    "pdf=PDF(unit='mm') #unit of measurement\n",
    "pdf=PDF(format='A4')\n",
    "pdf.add_page()\n",
    "\n",
    "\n",
    "# size of an A4 paper: W:210 , h:297\n",
    "pdf_w = 210\n",
    "pdf_h = 297\n",
    "\n",
    "pdf.set_xy(0.0,0.0)\n",
    "pdf.set_font('Arial','B',16)\n",
    "pdf.set_text_color(220,50,50)\n",
    "pdf.cell(w=210.0, h=40.0, align='C', txt=\"Summary of the Model\", border=0)\n",
    "\n",
    "pdf.set_xy(40.0,25.0)\n",
    "#pdf.image(r'C:\\Users\\Amin\\Documents\\GitHub\\My Kenya\\Calliope_Kenya\\Models\\4Nodes_No-Coffee\\Graphs\\MTKR_16OP.png',  link='', type='', w=700/5, h=450/5)\n",
    "data = [[' '],\n",
    "        ['Mike', 'Driscoll', 'mike@somewhere.com', '55555'],\n",
    "        ['John', 'Doe', 'jdoe@doe.com', '12345'],\n",
    "        ['Nina', 'Ma', 'inane@where.com', '54321']\n",
    "            ]\n",
    "col_width = pdf.w / 4.5\n",
    "pdf.set_font(\"Arial\", size=12)\n",
    "row_height = pdf.font_size\n",
    "for row in data:\n",
    "    for item in row:\n",
    "        pdf.cell(col_width, row_height*1,\n",
    "                     txt=item, border=1)\n",
    "    pdf.ln(row_height*1)\n",
    "pdf.output('test.pdf','F')"
   ]
  },
  {
   "cell_type": "code",
   "execution_count": null,
   "metadata": {},
   "outputs": [],
   "source": []
  },
  {
   "cell_type": "code",
   "execution_count": null,
   "metadata": {},
   "outputs": [],
   "source": [
    "energy_cap=model.get_formatted_array('energy_cap_equals').loc[{'techs':pr_techs,'locs':nodes}].to_pandas().T"
   ]
  },
  {
   "cell_type": "code",
   "execution_count": null,
   "metadata": {},
   "outputs": [],
   "source": [
    "energy_cap=energy_cap.fillna(0)"
   ]
  },
  {
   "cell_type": "code",
   "execution_count": null,
   "metadata": {},
   "outputs": [],
   "source": [
    "energy_cap"
   ]
  },
  {
   "cell_type": "code",
   "execution_count": null,
   "metadata": {},
   "outputs": [],
   "source": [
    "nodes"
   ]
  },
  {
   "cell_type": "code",
   "execution_count": null,
   "metadata": {},
   "outputs": [],
   "source": [
    "plt.figure(figsize=(8,8))\n",
    "table = plt.table(cellText=energy_cap.values,\n",
    "                              rowColours=colors[pr_techs],\n",
    "                              rowLabels= names[pr_techs],\n",
    "                              colLabels = nodes,\n",
    "                              loc='upper center',\n",
    "                              rowLoc ='center',\n",
    "                              colLoc='center',\n",
    "                              cellLoc='center')\n",
    "table.auto_set_font_size(True)\n",
    "table.set_fontsize(15)\n",
    "table.scale(1, 1.8)\n",
    "plt.box(on=None)\n",
    "ax = plt.gca()\n",
    "ax.get_xaxis().set_visible(False)\n",
    "ax.get_yaxis().set_visible(False)\n",
    "plt.title('Installed Capacity',fontsize=20)\n",
    "\n",
    "plt.savefig('pyplot-table-figure-style.png',\n",
    "            bbox_inches='tight',\n",
    "            dpi=150\n",
    "            )"
   ]
  },
  {
   "cell_type": "code",
   "execution_count": null,
   "metadata": {},
   "outputs": [],
   "source": [
    "cap_f=model.get_formatted_array('capacity_factor').loc[{'techs':pr_techs,'locs':['WSTR'],'carriers':'power'}].sum('locs').to_pandas().T"
   ]
  },
  {
   "cell_type": "code",
   "execution_count": null,
   "metadata": {},
   "outputs": [],
   "source": [
    "cap_f=cap_f.sum()/len(cap_f)"
   ]
  },
  {
   "cell_type": "code",
   "execution_count": null,
   "metadata": {},
   "outputs": [],
   "source": [
    "cap_f.plot(kind='bar',colors=colors[pr_techs])"
   ]
  },
  {
   "cell_type": "code",
   "execution_count": null,
   "metadata": {},
   "outputs": [],
   "source": [
    "a = model.get_formatted_array('cost').loc[{'techs':pr_techs,'locs':['WSTR'],'costs':'monetary'}].sum('locs').to_pandas().T"
   ]
  },
  {
   "cell_type": "code",
   "execution_count": null,
   "metadata": {},
   "outputs": [],
   "source": [
    "a.plot(kind='bar',stacked=True)"
   ]
  },
  {
   "cell_type": "code",
   "execution_count": null,
   "metadata": {},
   "outputs": [],
   "source": [
    "import cal_graph as CG\n",
    "amin=CG.C_Graph(model=model,ex_path=r'C:\\Users\\Amin\\Documents\\GitHub\\My Kenya\\Calliope_Kenya\\Models\\4Nodes_No-Coffee\\Graph_inputs.xlsx',unit='kWh')\n",
    "amin.node_dispatch(unit='GWh')"
   ]
  },
  {
   "cell_type": "code",
   "execution_count": null,
   "metadata": {},
   "outputs": [],
   "source": [
    "a=['1']"
   ]
  },
  {
   "cell_type": "code",
   "execution_count": null,
   "metadata": {},
   "outputs": [],
   "source": [
    "if a:\n",
    "    print('hi')"
   ]
  },
  {
   "cell_type": "code",
   "execution_count": null,
   "metadata": {},
   "outputs": [],
   "source": [
    "amin.node_dispatch(unit='GWh')"
   ]
  },
  {
   "cell_type": "code",
   "execution_count": null,
   "metadata": {},
   "outputs": [],
   "source": [
    "pr['WSTR']"
   ]
  },
  {
   "cell_type": "code",
   "execution_count": null,
   "metadata": {},
   "outputs": [],
   "source": [
    "pr['WSTR'].resample('1h').mean()"
   ]
  },
  {
   "cell_type": "code",
   "execution_count": null,
   "metadata": {},
   "outputs": [],
   "source": [
    "pr.columns = [pr.columns.get_level_values(0),RES_ind]"
   ]
  },
  {
   "cell_type": "code",
   "execution_count": null,
   "metadata": {},
   "outputs": [],
   "source": [
    "pr=pr.groupby(level=[0,1],axis=1).sum()"
   ]
  },
  {
   "cell_type": "code",
   "execution_count": null,
   "metadata": {},
   "outputs": [],
   "source": [
    "shares = pd.DataFrame(0,index = pr.index , columns = pr.columns)"
   ]
  },
  {
   "cell_type": "code",
   "execution_count": null,
   "metadata": {},
   "outputs": [],
   "source": [
    "for i in nodes:\n",
    "    shares[(i,'Renewable')] = pr[(i,'Renewable')] / pr[i].sum(axis=1)\n",
    "    shares[(i,'Conventional')] = pr[(i,'Conventional')] / pr[i].sum(axis=1)"
   ]
  },
  {
   "cell_type": "code",
   "execution_count": null,
   "metadata": {},
   "outputs": [],
   "source": [
    "a=pr[('CSTR','Conventional')]"
   ]
  },
  {
   "cell_type": "code",
   "execution_count": null,
   "metadata": {},
   "outputs": [],
   "source": [
    "b=pr['CSTR'].sum(axis=1)"
   ]
  },
  {
   "cell_type": "code",
   "execution_count": null,
   "metadata": {},
   "outputs": [],
   "source": [
    "shares*100"
   ]
  },
  {
   "cell_type": "code",
   "execution_count": null,
   "metadata": {},
   "outputs": [],
   "source": [
    "pr['CSTR']"
   ]
  },
  {
   "cell_type": "code",
   "execution_count": null,
   "metadata": {},
   "outputs": [],
   "source": []
  }
 ],
 "metadata": {
  "kernelspec": {
   "display_name": "Python 3",
   "language": "python",
   "name": "python3"
  },
  "language_info": {
   "codemirror_mode": {
    "name": "ipython",
    "version": 3
   },
   "file_extension": ".py",
   "mimetype": "text/x-python",
   "name": "python",
   "nbconvert_exporter": "python",
   "pygments_lexer": "ipython3",
   "version": "3.8.2"
  }
 },
 "nbformat": 4,
 "nbformat_minor": 2
}
