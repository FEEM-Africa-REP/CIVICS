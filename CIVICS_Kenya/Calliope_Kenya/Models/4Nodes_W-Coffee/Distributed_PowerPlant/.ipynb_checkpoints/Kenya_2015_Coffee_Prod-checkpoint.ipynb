{
 "cells": [
  {
   "cell_type": "code",
   "execution_count": null,
   "metadata": {},
   "outputs": [],
   "source": [
    "import calliope\n",
    "import Graphs as gg"
   ]
  },
  {
   "cell_type": "code",
   "execution_count": null,
   "metadata": {},
   "outputs": [],
   "source": [
    "try:\n",
    "    calliope.set_log_level('ERROR')\n",
    "except:\n",
    "    calliope.set_log_verbosity('ERROR')\n",
    "model = calliope.Model('model.yaml')\n",
    "model.run()"
   ]
  },
  {
   "cell_type": "code",
   "execution_count": null,
   "metadata": {},
   "outputs": [],
   "source": [
    "model.to_csv(r'C:\\Users\\stevo\\FONDAZIONE ENI ENRICO MATTEI\\Federica Inzoli - REP\\CIVICS Kenya\\Energy_Model\\Kenya_2015_Distributed_PowerPlant\\Results')"
   ]
  },
  {
   "cell_type": "code",
   "execution_count": null,
   "metadata": {
    "scrolled": true
   },
   "outputs": [],
   "source": [
    "gg.Dispatch_sys(model,sp_tech='bio_coffee_pp',weekly=True,pie_values='share')\n",
    "gg.Dispatch_reg(model,sp_tech=False,sp_reg=False,weekly=True,pie_values='share',rnd=1,font=13,rational='cons')"
   ]
  },
  {
   "cell_type": "code",
   "execution_count": null,
   "metadata": {},
   "outputs": [],
   "source": []
  }
 ],
 "metadata": {
  "kernelspec": {
   "display_name": "Python 3",
   "language": "python",
   "name": "python3"
  },
  "language_info": {
   "codemirror_mode": {
    "name": "ipython",
    "version": 3
   },
   "file_extension": ".py",
   "mimetype": "text/x-python",
   "name": "python",
   "nbconvert_exporter": "python",
   "pygments_lexer": "ipython3",
   "version": "3.8.2"
  }
 },
 "nbformat": 4,
 "nbformat_minor": 2
}
