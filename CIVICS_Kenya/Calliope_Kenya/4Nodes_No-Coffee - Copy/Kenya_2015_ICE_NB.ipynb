{
 "cells": [
  {
   "cell_type": "code",
   "execution_count": 1,
   "metadata": {},
   "outputs": [],
   "source": [
    "import calliope"
   ]
  },
  {
   "cell_type": "code",
   "execution_count": 2,
   "metadata": {
    "scrolled": true
   },
   "outputs": [
    {
     "name": "stdout",
     "output_type": "stream",
     "text": [
      "[2020-10-16 17:33:39] INFO     Model: initialising\n",
      "[2020-10-16 17:33:39] WARNING  C:\\Users\\payam\\anaconda3\\envs\\calliope\\lib\\site-packages\\calliope\\core\\preprocess\\model_run.py:227: FutureWarning:\n",
      "\n",
      "There will be no default cost class for the objective function in v0.7.0 (currently \"monetary\" with a weight of 1). Explicitly specify the cost class(es) you would like to use under `run.objective_options.cost_class`. E.g. `{\"monetary\": 1}` to replicate the current default.\n",
      "\n",
      "\n",
      "[2020-10-16 17:33:39] INFO     Model: preprocessing stage 1 (model_run)\n",
      "[2020-10-16 17:33:39] INFO     NumExpr defaulting to 8 threads.\n",
      "[2020-10-16 17:33:39] INFO     Model: preprocessing stage 2 (model_data)\n",
      "[2020-10-16 17:33:39] INFO     Model: preprocessing complete\n",
      "[2020-10-16 17:33:39] INFO     Backend: starting model run\n",
      "[2020-10-16 17:33:40] INFO     constraints are loaded in the following order: ['capacity', 'costs', 'dispatch', 'energy_balance', 'network', 'policy', 'conversion', 'conversion_plus', 'group', 'export', 'milp']\n",
      "[2020-10-16 17:33:41] INFO     Backend: model generated. Time since start of model run: 0:00:01.414950\n",
      "[2020-10-16 17:33:41] INFO     Backend: sending model to solver\n",
      "[2020-10-16 17:33:41] DEBUG    GLPSOL: GLPK LP/MIP Solver, v4.62\n",
      "[2020-10-16 17:33:41] DEBUG    Parameter(s) specified in the command line:\n",
      "[2020-10-16 17:33:41] DEBUG    --write C:\\Users\\payam\\AppData\\Local\\Temp\\tmpttx3fzmp.glpk.raw --wglp C:\\Users\\payam\\AppData\\Local\\Temp\\tmpovsnsmsh.glpk.glp\n",
      "[2020-10-16 17:33:41] DEBUG    --cpxlp C:\\Users\\payam\\AppData\\Local\\Temp\\tmp_3filtxk.pyomo.lp\n",
      "[2020-10-16 17:33:41] DEBUG    Reading problem data from 'C:\\Users\\payam\\AppData\\Local\\Temp\\tmp_3filtxk.pyomo.lp'...\n",
      "[2020-10-16 17:33:41] DEBUG    8586 rows, 6051 columns, 21508 non-zeros\n",
      "[2020-10-16 17:33:41] DEBUG    53355 lines were read\n",
      "[2020-10-16 17:33:41] DEBUG    Writing problem data to 'C:\\Users\\payam\\AppData\\Local\\Temp\\tmpovsnsmsh.glpk.glp'...\n",
      "[2020-10-16 17:33:41] DEBUG    44669 lines were written\n",
      "[2020-10-16 17:33:41] DEBUG    GLPK Simplex Optimizer, v4.62\n",
      "[2020-10-16 17:33:41] DEBUG    8586 rows, 6051 columns, 21508 non-zeros\n",
      "[2020-10-16 17:33:41] DEBUG    Preprocessing...\n",
      "[2020-10-16 17:33:41] DEBUG    1872 rows, 3457 columns, 6552 non-zeros\n",
      "[2020-10-16 17:33:41] DEBUG    Scaling...\n",
      "[2020-10-16 17:33:41] DEBUG    A: min|aij| =  9.837e-01  max|aij| =  1.000e+00  ratio =  1.017e+00\n",
      "[2020-10-16 17:33:41] DEBUG    Problem data seem to be well scaled\n",
      "[2020-10-16 17:33:41] DEBUG    Constructing initial basis...\n",
      "[2020-10-16 17:33:41] DEBUG    Size of triangular part is 1872\n",
      "[2020-10-16 17:33:41] DEBUG    0: obj =   1.501082280e+07 inf =   3.334e+07 (147)\n",
      "[2020-10-16 17:33:41] DEBUG    364: obj =   1.225891666e+07 inf =   0.000e+00 (0)\n",
      "[2020-10-16 17:33:41] DEBUG    *   500: obj =   1.184769084e+07 inf =   0.000e+00 (751)\n",
      "[2020-10-16 17:33:41] DEBUG    *  1000: obj =   7.876408862e+06 inf =   0.000e+00 (358) 3\n",
      "[2020-10-16 17:33:41] DEBUG    *  1308: obj =   7.179876475e+06 inf =   8.004e-11 (0) 1\n",
      "[2020-10-16 17:33:41] DEBUG    OPTIMAL LP SOLUTION FOUND\n",
      "[2020-10-16 17:33:41] DEBUG    Time used:   0.1 secs\n",
      "[2020-10-16 17:33:41] DEBUG    Memory used: 7.7 Mb (8022212 bytes)\n",
      "[2020-10-16 17:33:41] DEBUG    Writing basic solution to 'C:\\Users\\payam\\AppData\\Local\\Temp\\tmpttx3fzmp.glpk.raw'...\n",
      "[2020-10-16 17:33:41] DEBUG    14646 lines were written\n",
      "[2020-10-16 17:33:42] INFO     Backend: solver finished running. Time since start of model run: 0:00:02.247655\n",
      "[2020-10-16 17:33:42] INFO     Backend: loaded results\n",
      "[2020-10-16 17:33:42] INFO     Backend: generated solution array. Time since start of model run: 0:00:02.292537\n",
      "[2020-10-16 17:33:42] INFO     Postprocessing: started\n",
      "[2020-10-16 17:33:42] INFO     Postprocessing: zero threshold of 1e-20 not required\n",
      "[2020-10-16 17:33:42] INFO     Postprocessing: ended. Time since start of model run: 0:00:02.461130\n"
     ]
    }
   ],
   "source": [
    "try:\n",
    "    calliope.set_log_level('INFO')\n",
    "except:\n",
    "    calliope.set_log_verbosity('INFO')\n",
    "model = calliope.Model('model.yaml')\n",
    "model.run()"
   ]
  },
  {
   "cell_type": "code",
   "execution_count": 4,
   "metadata": {},
   "outputs": [
    {
     "name": "stdout",
     "output_type": "stream",
     "text": [
      "C_Graph: A python class for customizing calliope outputs developed in Fondazione Eni Enrico Mattei. \n",
      " Version 0.1: (Single Carrier)\n"
     ]
    }
   ],
   "source": [
    "import cal_graph as CG\n",
    "amin=CG.C_Graph(model=model,ex_path=r'Graph_inputs.xlsx',unit='kW')\n",
    "\n"
   ]
  },
  {
   "cell_type": "code",
   "execution_count": null,
   "metadata": {},
   "outputs": [],
   "source": []
  }
 ],
 "metadata": {
  "kernelspec": {
   "display_name": "Python 3",
   "language": "python",
   "name": "python3"
  },
  "language_info": {
   "codemirror_mode": {
    "name": "ipython",
    "version": 3
   },
   "file_extension": ".py",
   "mimetype": "text/x-python",
   "name": "python",
   "nbconvert_exporter": "python",
   "pygments_lexer": "ipython3",
   "version": "3.8.1"
  }
 },
 "nbformat": 4,
 "nbformat_minor": 2
}
